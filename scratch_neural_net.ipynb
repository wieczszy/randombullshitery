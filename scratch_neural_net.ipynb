{
 "cells": [
  {
   "cell_type": "markdown",
   "metadata": {
    "toc": true
   },
   "source": [
    "<h1>Table of Contents<span class=\"tocSkip\"></span></h1>\n",
    "<div class=\"toc\"><ul class=\"toc-item\"></ul></div>"
   ]
  },
  {
   "cell_type": "markdown",
   "metadata": {},
   "source": [
    "$\\sigma(x) = \\frac{\\exp(x)}{exp(x) + 1}$\n",
    "\n",
    "\n",
    "$\\sigma(x)' = \\sigma(x)(1 - \\sigma(x))$\n",
    "\n",
    "\n",
    "$\\hat{y} = \\sigma(\\sigma(x \\cdot W_1) \\cdot W_2)$\n",
    "\n",
    "\n",
    "$L(y, \\hat{y}) = \\Sigma(y - \\hat{y})^2$"
   ]
  },
  {
   "cell_type": "code",
   "execution_count": 188,
   "metadata": {
    "ExecuteTime": {
     "end_time": "2020-05-09T12:14:27.109554Z",
     "start_time": "2020-05-09T12:14:26.602410Z"
    }
   },
   "outputs": [],
   "source": [
    "import numpy as np\n",
    "import matplotlib.pyplot as plt"
   ]
  },
  {
   "cell_type": "code",
   "execution_count": 323,
   "metadata": {
    "ExecuteTime": {
     "end_time": "2020-05-09T14:14:37.399937Z",
     "start_time": "2020-05-09T14:14:37.389872Z"
    }
   },
   "outputs": [],
   "source": [
    "class NeuralNet():\n",
    "    def __init__(self):\n",
    "        self.x = None\n",
    "        self.y = None\n",
    "        self.w1 = None\n",
    "        self.w2 = None\n",
    "        self.h1 = None\n",
    "        self.o = None\n",
    "        self.loss_record = []\n",
    "        \n",
    "    def fit(self, x, y):\n",
    "        self.x = x\n",
    "        self.y = y\n",
    "        self.w1 = np.random.rand(self.x.shape[1], 4)\n",
    "        self.w2 = np.random.rand(4, 1)\n",
    "        self.o = np.zeros(self.y.shape[0])\n",
    "        \n",
    "    def _sigmoid(self, x):\n",
    "        return np.exp(x)/(np.exp(x) + 1)\n",
    "    \n",
    "    def _sigmoid_d(self, x):\n",
    "        return self._sigmoid(x) * (1 - self._sigmoid(x))\n",
    "    \n",
    "    def _feedforward(self):\n",
    "        self.h1 = self._sigmoid(np.dot(self.x, self.w1))\n",
    "        self.o = self._sigmoid(np.dot(self.h1, self.w2))\n",
    "        return self.o\n",
    "        \n",
    "    def _backprop(self):      \n",
    "        dw1 = np.dot(self.x.T, np.dot(2 * (self.y -self.o) * self._sigmoid_d(self.o), self.w2.T) * self._sigmoid_d(self.h1))\n",
    "        dw2 = np.dot(self.h1.T, (2 * (self.y - self.o)) * self._sigmoid_d(self.o))  \n",
    "        \n",
    "        self.w1 += dw1\n",
    "        self.w2 += dw2\n",
    "         \n",
    "    def _calc_loss(self):\n",
    "        return np.mean(np.square(self.y - self.o))\n",
    " \n",
    "    def train(self, epochs):\n",
    "        for i in range(epochs):\n",
    "            self._feedforward()\n",
    "            self._backprop()\n",
    "            self.loss_record.append(self._calc_loss())\n",
    "            \n",
    "    def plot_training(self):\n",
    "        plt.plot(range(len(self.loss_record)), self.loss_record)\n",
    "        plt.show()\n",
    "        \n",
    "    def predict(self, x):\n",
    "        self.x = x\n",
    "        return self._feedforward()"
   ]
  },
  {
   "cell_type": "code",
   "execution_count": 330,
   "metadata": {
    "ExecuteTime": {
     "end_time": "2020-05-09T14:15:07.194651Z",
     "start_time": "2020-05-09T14:15:07.188714Z"
    }
   },
   "outputs": [],
   "source": [
    "X = np.asarray([[0, 0, 0],\n",
    "                [0, 1, 1],\n",
    "                [1, 0, 1],\n",
    "                [1, 1, 1]])\n",
    "Y = np.asarray([0, 1, 1, 0]).reshape((4,1))"
   ]
  },
  {
   "cell_type": "code",
   "execution_count": 331,
   "metadata": {
    "ExecuteTime": {
     "end_time": "2020-05-09T14:15:07.819566Z",
     "start_time": "2020-05-09T14:15:07.652115Z"
    }
   },
   "outputs": [
    {
     "data": {
      "image/png": "[encoded data removed]",
      "text/plain": [
       "<Figure size 432x288 with 1 Axes>"
      ]
     },
     "metadata": {
      "needs_background": "light"
     },
     "output_type": "display_data"
    }
   ],
   "source": [
    "nn = NeuralNet()\n",
    "nn.fit(X, Y)\n",
    "nn.train(250)\n",
    "nn.plot_training()"
   ]
  },
  {
   "cell_type": "code",
   "execution_count": 332,
   "metadata": {
    "ExecuteTime": {
     "end_time": "2020-05-09T14:15:08.537078Z",
     "start_time": "2020-05-09T14:15:08.531935Z"
    }
   },
   "outputs": [
    {
     "data": {
      "text/plain": [
       "array([[0.01192164],\n",
       "       [0.97815379],\n",
       "       [0.97791377],\n",
       "       [0.02516828]])"
      ]
     },
     "execution_count": 332,
     "metadata": {},
     "output_type": "execute_result"
    }
   ],
   "source": [
    "nn.o"
   ]
  },
  {
   "cell_type": "code",
   "execution_count": 333,
   "metadata": {
    "ExecuteTime": {
     "end_time": "2020-05-09T14:15:10.552208Z",
     "start_time": "2020-05-09T14:15:10.547287Z"
    }
   },
   "outputs": [
    {
     "data": {
      "text/plain": [
       "array([[7.60348047e-06]])"
      ]
     },
     "execution_count": 333,
     "metadata": {},
     "output_type": "execute_result"
    }
   ],
   "source": [
    "X = np.asarray([[1, 0, 0]])\n",
    "nn.predict(X)"
   ]
  }
 ],
 "metadata": {
  "kernelspec": {
   "display_name": "Python 3",
   "language": "python",
   "name": "python3"
  },
  "language_info": {
   "codemirror_mode": {
    "name": "ipython",
    "version": 3
   },
   "file_extension": ".py",
   "mimetype": "text/x-python",
   "name": "python",
   "nbconvert_exporter": "python",
   "pygments_lexer": "ipython3",
   "version": "3.6.8"
  },
  "toc": {
   "base_numbering": 1,
   "nav_menu": {},
   "number_sections": true,
   "sideBar": true,
   "skip_h1_title": false,
   "title_cell": "Table of Contents",
   "title_sidebar": "Contents",
   "toc_cell": true,
   "toc_position": {
    "height": "calc(100% - 180px)",
    "left": "10px",
    "top": "150px",
    "width": "165px"
   },
   "toc_section_display": false,
   "toc_window_display": true
  }
 },
 "nbformat": 4,
 "nbformat_minor": 4
}
