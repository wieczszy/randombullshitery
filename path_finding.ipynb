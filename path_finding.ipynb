{
 "cells": [
  {
   "cell_type": "markdown",
   "metadata": {
    "toc": true
   },
   "source": [
    "<h1>Table of Contents<span class=\"tocSkip\"></span></h1>\n",
    "<div class=\"toc\"><ul class=\"toc-item\"><li><span><a href=\"#Breadth-First-Search\" data-toc-modified-id=\"Breadth-First-Search-1\"><span class=\"toc-item-num\">1&nbsp;&nbsp;</span>Breadth First Search</a></span></li><li><span><a href=\"#Uniform-Cost-Search\" data-toc-modified-id=\"Uniform-Cost-Search-2\"><span class=\"toc-item-num\">2&nbsp;&nbsp;</span>Uniform Cost Search</a></span></li><li><span><a href=\"#Huristic-search\" data-toc-modified-id=\"Huristic-search-3\"><span class=\"toc-item-num\">3&nbsp;&nbsp;</span>Huristic search</a></span></li><li><span><a href=\"#A*\" data-toc-modified-id=\"A*-4\"><span class=\"toc-item-num\">4&nbsp;&nbsp;</span>A*</a></span></li><li><span><a href=\"#Comparison\" data-toc-modified-id=\"Comparison-5\"><span class=\"toc-item-num\">5&nbsp;&nbsp;</span>Comparison</a></span></li></ul></div>"
   ]
  },
  {
   "cell_type": "code",
   "execution_count": 291,
   "metadata": {
    "ExecuteTime": {
     "end_time": "2020-05-08T16:53:41.562440Z",
     "start_time": "2020-05-08T16:53:41.556740Z"
    }
   },
   "outputs": [],
   "source": [
    "import numpy as np\n",
    "from itertools import product\n",
    "from queue import Queue, PriorityQueue\n",
    "import matplotlib.pyplot as plt"
   ]
  },
  {
   "cell_type": "code",
   "execution_count": 373,
   "metadata": {
    "ExecuteTime": {
     "end_time": "2020-05-08T17:10:13.959089Z",
     "start_time": "2020-05-08T17:10:13.949623Z"
    }
   },
   "outputs": [],
   "source": [
    "class Map():\n",
    "    def __init__(self, size):\n",
    "        self.size = size\n",
    "        self.map = np.zeros(self.size)\n",
    "        self.costs = np.random.rand(self.size[0], self.size[1]) * 10 + np.random.rand() * 10\n",
    "        \n",
    "    def visit(self, coords):\n",
    "        x, y = coords[0], coords[1]\n",
    "        self.map[x,y] = 1\n",
    "        \n",
    "    def add_obstacles(self, obstacles):\n",
    "        for obstacle in obstacles:\n",
    "            self.map[obstacle] = 4\n",
    "        \n",
    "    def belongs(self, coords):\n",
    "        x, y = coords[0], coords[1]\n",
    "        if x in range(self.size[0]) and y in range(self.size[1]):\n",
    "            return True\n",
    "        return False\n",
    "        \n",
    "    def neighbors(self, coords):\n",
    "        x, y = coords[0], coords[1]\n",
    "        current = self.map[x,y]\n",
    "        x_ = [x + 1, x, x - 1]\n",
    "        y_ = [y + 1, y, y - 1]\n",
    "        N = product(x_, y_)\n",
    "        N = [n for n in N if self.belongs(n) and n != coords and self.map[n] != 4]\n",
    "        return N\n",
    "    \n",
    "    def show_map(self):\n",
    "        plt.imshow(m.map)\n",
    "        plt.show()\n",
    "    \n",
    "    def show_neighbours(self, coords):\n",
    "        x, y = coords[0], coords[1]\n",
    "        mutable_map = self.map.copy()\n",
    "        mutable_map[x,y] = 2\n",
    "        N = self.neighbors(coords)\n",
    "        for n in N:\n",
    "            mutable_map[n[0], n[1]] = 1\n",
    "        plt.imshow(mutable_map)\n",
    "        plt.show()\n",
    "        \n",
    "    def show_path(self, path):\n",
    "        mutable_map = self.map.copy()\n",
    "        mutable_map[mutable_map == 1] = 0\n",
    "        mutable_map[path[0]] = 2\n",
    "        mutable_map[path[-1]] = 3\n",
    "        path.pop(0)\n",
    "        path.pop(-1)\n",
    "        for p in path:\n",
    "            mutable_map[p] = 1\n",
    "        plt.imshow(mutable_map)\n",
    "        plt.show()"
   ]
  },
  {
   "cell_type": "markdown",
   "metadata": {},
   "source": [
    "## Breadth First Search"
   ]
  },
  {
   "cell_type": "code",
   "execution_count": 374,
   "metadata": {
    "ExecuteTime": {
     "end_time": "2020-05-08T17:10:15.579602Z",
     "start_time": "2020-05-08T17:10:15.574455Z"
    }
   },
   "outputs": [],
   "source": [
    "def bfs(start, goal, m):\n",
    "    frontier = Queue()\n",
    "    frontier.put(start)\n",
    "    m.visit(start)\n",
    "\n",
    "    came_from = {}\n",
    "    came_from[start] = None\n",
    "\n",
    "    while not frontier.empty():\n",
    "        current = frontier.get()\n",
    "        for n in m.neighbors(current):\n",
    "            if n not in came_from.keys():\n",
    "                frontier.put(n)\n",
    "                came_from[n] = current\n",
    "                m.visit(n)\n",
    "\n",
    "    current = goal\n",
    "    path = []\n",
    "    while current != start:\n",
    "        path.append(current)\n",
    "        current = came_from[current]\n",
    "        \n",
    "    return path"
   ]
  },
  {
   "cell_type": "code",
   "execution_count": 375,
   "metadata": {
    "ExecuteTime": {
     "end_time": "2020-05-08T17:10:16.347162Z",
     "start_time": "2020-05-08T17:10:16.197526Z"
    }
   },
   "outputs": [
    {
     "data": {
      "image/png": "[encoded data removed]",
      "text/plain": [
       "<Figure size 432x288 with 1 Axes>"
      ]
     },
     "metadata": {
      "needs_background": "light"
     },
     "output_type": "display_data"
    }
   ],
   "source": [
    "m = Map((15,15))\n",
    "m.add_obstacles([(3,0), (3,1),(3,2),(3,3), (3,4), (6, 4), (6, 5), (6,6), (6,7), (10, 0), (10, 1), (10, 2)])\n",
    "\n",
    "start = (12,0)\n",
    "goal = (0,0)\n",
    "\n",
    "path = bfs(start, goal, m)\n",
    "m.show_path(path)"
   ]
  },
  {
   "cell_type": "markdown",
   "metadata": {},
   "source": [
    "## Uniform Cost Search"
   ]
  },
  {
   "cell_type": "code",
   "execution_count": 351,
   "metadata": {
    "ExecuteTime": {
     "end_time": "2020-05-08T17:05:23.354989Z",
     "start_time": "2020-05-08T17:05:23.348052Z"
    }
   },
   "outputs": [],
   "source": [
    "def ucs(start, goal, m):\n",
    "    frontier = PriorityQueue()\n",
    "    frontier.put(start, 0)\n",
    "    m.visit(start)\n",
    "\n",
    "    came_from = {}\n",
    "    acc_costs = {}\n",
    "    came_from[start] = None\n",
    "    acc_costs[start] = 0\n",
    "\n",
    "    while not frontier.empty():\n",
    "        current = frontier.get()\n",
    "        for n in m.neighbors(current):\n",
    "            current_cost = acc_costs[current] + m.costs[n]\n",
    "            if n not in acc_costs.keys() or current_cost < acc_costs[n]:\n",
    "                acc_costs[n] = current_cost\n",
    "                frontier.put(n, current_cost)\n",
    "                came_from[n] = current\n",
    "\n",
    "    current = goal\n",
    "    path = []\n",
    "    while current != start:\n",
    "        path.append(current)\n",
    "        current = came_from[current]\n",
    "        \n",
    "    return path"
   ]
  },
  {
   "cell_type": "code",
   "execution_count": 360,
   "metadata": {
    "ExecuteTime": {
     "end_time": "2020-05-08T17:06:01.698373Z",
     "start_time": "2020-05-08T17:06:01.492844Z"
    }
   },
   "outputs": [
    {
     "data": {
      "image/png": "[encoded data removed]",
      "text/plain": [
       "<Figure size 432x288 with 1 Axes>"
      ]
     },
     "metadata": {
      "needs_background": "light"
     },
     "output_type": "display_data"
    }
   ],
   "source": [
    "m = Map((15,15))\n",
    "m.add_obstacles([(3,0), (3,1),(3,2),(3,3), (3,4), (6, 4), (6, 5), (6,6), (6,7), (10, 0), (10, 1), (10, 2)])\n",
    "\n",
    "start = (12,0)\n",
    "goal = (0,0)\n",
    "\n",
    "path = ucs(start, goal, m)\n",
    "m.show_path(path)"
   ]
  },
  {
   "cell_type": "code",
   "execution_count": 352,
   "metadata": {
    "ExecuteTime": {
     "end_time": "2020-05-08T17:05:30.143587Z",
     "start_time": "2020-05-08T17:05:29.920524Z"
    }
   },
   "outputs": [
    {
     "data": {
      "image/png": "[encoded data removed]",
      "text/plain": [
       "<Figure size 432x288 with 1 Axes>"
      ]
     },
     "metadata": {
      "needs_background": "light"
     },
     "output_type": "display_data"
    }
   ],
   "source": [
    "m = Map((15,15))\n",
    "m.add_obstacles([(3,0), (3,1),(3,2),(3,3), (3,4), (6, 4), (6, 5), (6,6), (6,7), (10, 0), (10, 1), (10, 2)])\n",
    "\n",
    "start = (12,0)\n",
    "goal = (0,0)\n",
    "\n",
    "path = ucs(start, goal, m)\n",
    "m.show_path(path)"
   ]
  },
  {
   "cell_type": "markdown",
   "metadata": {},
   "source": [
    "## Huristic search"
   ]
  },
  {
   "cell_type": "code",
   "execution_count": 379,
   "metadata": {
    "ExecuteTime": {
     "end_time": "2020-05-08T17:12:33.875418Z",
     "start_time": "2020-05-08T17:12:33.869841Z"
    }
   },
   "outputs": [],
   "source": [
    "def heuristic(a, b):\n",
    "   return abs(a[0] - b[0]) + abs(a[1] - b[1])"
   ]
  },
  {
   "cell_type": "code",
   "execution_count": 382,
   "metadata": {
    "ExecuteTime": {
     "end_time": "2020-05-08T17:14:59.306177Z",
     "start_time": "2020-05-08T17:14:59.300636Z"
    }
   },
   "outputs": [],
   "source": [
    "def hs(start, goal, m):\n",
    "    frontier = PriorityQueue()\n",
    "    frontier.put(start, 0)\n",
    "    m.visit(start)\n",
    "\n",
    "    came_from = {}\n",
    "    came_from[start] = None\n",
    "\n",
    "    while not frontier.empty():\n",
    "        current = frontier.get()\n",
    "        if current == goal:\n",
    "            break\n",
    "        for n in m.neighbors(current):\n",
    "            if n not in came_from.keys():\n",
    "                frontier.put(n, heuristic(goal, n))\n",
    "                came_from[n] = current\n",
    "\n",
    "\n",
    "    current = goal\n",
    "    path = []\n",
    "    while current != start:\n",
    "        path.append(current)\n",
    "        current = came_from[current]\n",
    "        \n",
    "    return path"
   ]
  },
  {
   "cell_type": "code",
   "execution_count": 386,
   "metadata": {
    "ExecuteTime": {
     "end_time": "2020-05-08T17:15:13.366813Z",
     "start_time": "2020-05-08T17:15:13.222458Z"
    }
   },
   "outputs": [
    {
     "data": {
      "image/png": "[encoded data removed]",
      "text/plain": [
       "<Figure size 432x288 with 1 Axes>"
      ]
     },
     "metadata": {
      "needs_background": "light"
     },
     "output_type": "display_data"
    }
   ],
   "source": [
    "m = Map((15,15))\n",
    "m.add_obstacles([(3,1), (3,1),(3,2),(3,3), (3,4), (6, 4), (6, 5), (6,6), (6,7), (10, 0), (10, 1), (10, 2)])\n",
    "\n",
    "start = (12,0)\n",
    "goal = (0,0)\n",
    "\n",
    "path = hs(start, goal, m)\n",
    "m.show_path(path)"
   ]
  },
  {
   "cell_type": "code",
   "execution_count": 423,
   "metadata": {
    "ExecuteTime": {
     "end_time": "2020-05-08T17:23:51.293447Z",
     "start_time": "2020-05-08T17:23:51.144897Z"
    }
   },
   "outputs": [
    {
     "data": {
      "image/png": "[encoded data removed]",
      "text/plain": [
       "<Figure size 432x288 with 1 Axes>"
      ]
     },
     "metadata": {
      "needs_background": "light"
     },
     "output_type": "display_data"
    }
   ],
   "source": [
    "obstacles = [(3, i) for i in range(3,12)]  \n",
    "obstacles += [(12, i) for i in range(3,12)]\n",
    "obstacles += [(i, 11) for i in range(3, 12)]\n",
    "\n",
    "m = Map((15,15))\n",
    "m.add_obstacles(obstacles)\n",
    "\n",
    "start = (12,0)\n",
    "goal = (3,13)\n",
    "\n",
    "path = bfs(start, goal, m)\n",
    "\n",
    "m.show_path(path)"
   ]
  },
  {
   "cell_type": "code",
   "execution_count": 424,
   "metadata": {
    "ExecuteTime": {
     "end_time": "2020-05-08T17:24:06.560537Z",
     "start_time": "2020-05-08T17:24:06.414614Z"
    }
   },
   "outputs": [
    {
     "data": {
      "image/png": "[encoded data removed]",
      "text/plain": [
       "<Figure size 432x288 with 1 Axes>"
      ]
     },
     "metadata": {
      "needs_background": "light"
     },
     "output_type": "display_data"
    }
   ],
   "source": [
    "obstacles = [(3, i) for i in range(3,12)]  \n",
    "obstacles += [(12, i) for i in range(3,12)]\n",
    "obstacles += [(i, 11) for i in range(3, 12)]\n",
    "\n",
    "m = Map((15,15))\n",
    "m.add_obstacles(obstacles)\n",
    "\n",
    "start = (12,0)\n",
    "goal = (3,13)\n",
    "\n",
    "path = hs(start, goal, m)\n",
    "\n",
    "m.show_path(path)"
   ]
  },
  {
   "cell_type": "markdown",
   "metadata": {},
   "source": [
    "## A*"
   ]
  },
  {
   "cell_type": "code",
   "execution_count": 425,
   "metadata": {
    "ExecuteTime": {
     "end_time": "2020-05-08T17:26:03.847627Z",
     "start_time": "2020-05-08T17:26:03.844867Z"
    }
   },
   "outputs": [],
   "source": [
    "def heuristic(a, b):\n",
    "   return abs(a[0] - b[0]) + abs(a[1] - b[1])"
   ]
  },
  {
   "cell_type": "code",
   "execution_count": 426,
   "metadata": {
    "ExecuteTime": {
     "end_time": "2020-05-08T17:26:24.037582Z",
     "start_time": "2020-05-08T17:26:24.031391Z"
    }
   },
   "outputs": [],
   "source": [
    "def astar(start, goal, m):\n",
    "    frontier = PriorityQueue()\n",
    "    frontier.put(start, 0)\n",
    "    m.visit(start)\n",
    "\n",
    "    came_from = {}\n",
    "    acc_costs = {}\n",
    "    came_from[start] = None\n",
    "    acc_costs[start] = 0\n",
    "\n",
    "    while not frontier.empty():\n",
    "        current = frontier.get()\n",
    "        if current == goal:\n",
    "            break\n",
    "        for n in m.neighbors(current):\n",
    "            current_cost = acc_costs[current] + m.costs[n]\n",
    "            if n not in acc_costs.keys() or current_cost < acc_costs[n]:\n",
    "                acc_costs[n] = current_cost\n",
    "                frontier.put(n, current_cost + heuristic(goal, n))\n",
    "                came_from[n] = current\n",
    "\n",
    "    current = goal\n",
    "    path = []\n",
    "    while current != start:\n",
    "        path.append(current)\n",
    "        current = came_from[current]\n",
    "        \n",
    "    return path"
   ]
  },
  {
   "cell_type": "code",
   "execution_count": 445,
   "metadata": {
    "ExecuteTime": {
     "end_time": "2020-05-08T17:29:23.501677Z",
     "start_time": "2020-05-08T17:29:23.231846Z"
    }
   },
   "outputs": [
    {
     "data": {
      "image/png": "[encoded data removed]",
      "text/plain": [
       "<Figure size 432x288 with 1 Axes>"
      ]
     },
     "metadata": {
      "needs_background": "light"
     },
     "output_type": "display_data"
    }
   ],
   "source": [
    "obstacles = [(3, i) for i in range(3,12)]  \n",
    "obstacles += [(12, i) for i in range(3,12)]\n",
    "obstacles += [(i, 11) for i in range(3, 12)]\n",
    "\n",
    "m = Map((15,15))\n",
    "m.add_obstacles(obstacles)\n",
    "\n",
    "start = (12,0)\n",
    "goal = (3,13)\n",
    "\n",
    "path = astar(start, goal, m)\n",
    "m.show_path(path)"
   ]
  },
  {
   "cell_type": "markdown",
   "metadata": {},
   "source": [
    "## Comparison\n",
    "Same map for all algos."
   ]
  },
  {
   "cell_type": "code",
   "execution_count": 457,
   "metadata": {
    "ExecuteTime": {
     "end_time": "2020-05-08T17:30:26.746793Z",
     "start_time": "2020-05-08T17:30:26.742458Z"
    }
   },
   "outputs": [],
   "source": [
    "obstacles = [(3, i) for i in range(3,12)]  \n",
    "obstacles += [(12, i) for i in range(3,12)]\n",
    "obstacles += [(i, 11) for i in range(3, 12)]\n",
    "\n",
    "m = Map((15,15))\n",
    "m.add_obstacles(obstacles)"
   ]
  },
  {
   "cell_type": "code",
   "execution_count": 459,
   "metadata": {
    "ExecuteTime": {
     "end_time": "2020-05-08T17:30:30.527620Z",
     "start_time": "2020-05-08T17:30:30.382656Z"
    }
   },
   "outputs": [
    {
     "data": {
      "image/png": "[encoded data removed]",
      "text/plain": [
       "<Figure size 432x288 with 1 Axes>"
      ]
     },
     "metadata": {
      "needs_background": "light"
     },
     "output_type": "display_data"
    }
   ],
   "source": [
    "start = (12,0)\n",
    "goal = (3,13)\n",
    "\n",
    "path = bfs(start, goal, m)\n",
    "m.show_path(path)"
   ]
  },
  {
   "cell_type": "code",
   "execution_count": 458,
   "metadata": {
    "ExecuteTime": {
     "end_time": "2020-05-08T17:30:28.067704Z",
     "start_time": "2020-05-08T17:30:27.880484Z"
    }
   },
   "outputs": [
    {
     "data": {
      "image/png": "[encoded data removed]",
      "text/plain": [
       "<Figure size 432x288 with 1 Axes>"
      ]
     },
     "metadata": {
      "needs_background": "light"
     },
     "output_type": "display_data"
    }
   ],
   "source": [
    "start = (12,0)\n",
    "goal = (3,13)\n",
    "\n",
    "path = ucs(start, goal, m)\n",
    "m.show_path(path)"
   ]
  },
  {
   "cell_type": "code",
   "execution_count": 460,
   "metadata": {
    "ExecuteTime": {
     "end_time": "2020-05-08T17:30:32.988664Z",
     "start_time": "2020-05-08T17:30:32.845749Z"
    }
   },
   "outputs": [
    {
     "data": {
      "image/png": "[encoded data removed]",
      "text/plain": [
       "<Figure size 432x288 with 1 Axes>"
      ]
     },
     "metadata": {
      "needs_background": "light"
     },
     "output_type": "display_data"
    }
   ],
   "source": [
    "start = (12,0)\n",
    "goal = (3,13)\n",
    "\n",
    "path = hs(start, goal, m)\n",
    "m.show_path(path)"
   ]
  },
  {
   "cell_type": "code",
   "execution_count": 461,
   "metadata": {
    "ExecuteTime": {
     "end_time": "2020-05-08T17:30:34.887950Z",
     "start_time": "2020-05-08T17:30:34.742172Z"
    }
   },
   "outputs": [
    {
     "data": {
      "image/png": "[encoded data removed]",
      "text/plain": [
       "<Figure size 432x288 with 1 Axes>"
      ]
     },
     "metadata": {
      "needs_background": "light"
     },
     "output_type": "display_data"
    }
   ],
   "source": [
    "start = (12,0)\n",
    "goal = (3,13)\n",
    "\n",
    "path = astar(start, goal, m)\n",
    "m.show_path(path)"
   ]
  }
 ],
 "metadata": {
  "kernelspec": {
   "display_name": "Python 3",
   "language": "python",
   "name": "python3"
  },
  "language_info": {
   "codemirror_mode": {
    "name": "ipython",
    "version": 3
   },
   "file_extension": ".py",
   "mimetype": "text/x-python",
   "name": "python",
   "nbconvert_exporter": "python",
   "pygments_lexer": "ipython3",
   "version": "3.6.8"
  },
  "toc": {
   "base_numbering": 1,
   "nav_menu": {},
   "number_sections": true,
   "sideBar": true,
   "skip_h1_title": false,
   "title_cell": "Table of Contents",
   "title_sidebar": "Contents",
   "toc_cell": true,
   "toc_position": {
    "height": "calc(100% - 180px)",
    "left": "10px",
    "top": "150px",
    "width": "255.6px"
   },
   "toc_section_display": false,
   "toc_window_display": true
  }
 },
 "nbformat": 4,
 "nbformat_minor": 4
}
